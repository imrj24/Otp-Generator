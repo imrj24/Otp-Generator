{
 "cells": [
  {
   "cell_type": "code",
   "execution_count": 3,
   "metadata": {},
   "outputs": [
    {
     "name": "stdout",
     "output_type": "stream",
     "text": [
      "Started listening on  127.0.0.1 : 12002\n",
      "Got a connection from  127.0.0.1 : 57405\n",
      "Receieved  b'OTP'  from the client\n",
      "Processing data\n",
      "Processing done \n",
      "Reply sent\n",
      "Receieved  b'confirm'  from the client\n",
      "Processing data\n",
      "Processing done\n"
     ]
    },
    {
     "ename": "ConnectionResetError",
     "evalue": "[WinError 10054] An existing connection was forcibly closed by the remote host",
     "output_type": "error",
     "traceback": [
      "\u001b[1;31m---------------------------------------------------------------------------\u001b[0m",
      "\u001b[1;31mConnectionResetError\u001b[0m                      Traceback (most recent call last)",
      "\u001b[1;32m<ipython-input-3-68016ec1283f>\u001b[0m in \u001b[0;36m<module>\u001b[1;34m\u001b[0m\n\u001b[0;32m     20\u001b[0m \u001b[0mprint\u001b[0m\u001b[1;33m(\u001b[0m\u001b[1;34m'Got a connection from '\u001b[0m\u001b[1;33m,\u001b[0m\u001b[0maddr\u001b[0m\u001b[1;33m[\u001b[0m\u001b[1;36m0\u001b[0m\u001b[1;33m]\u001b[0m\u001b[1;33m,\u001b[0m\u001b[1;34m':'\u001b[0m\u001b[1;33m,\u001b[0m\u001b[0maddr\u001b[0m\u001b[1;33m[\u001b[0m\u001b[1;36m1\u001b[0m\u001b[1;33m]\u001b[0m\u001b[1;33m)\u001b[0m\u001b[1;33m\u001b[0m\u001b[0m\n\u001b[0;32m     21\u001b[0m \u001b[1;32mwhile\u001b[0m\u001b[1;33m(\u001b[0m\u001b[1;32mTrue\u001b[0m\u001b[1;33m)\u001b[0m\u001b[1;33m:\u001b[0m\u001b[1;33m\u001b[0m\u001b[0m\n\u001b[1;32m---> 22\u001b[1;33m     \u001b[0mdata\u001b[0m \u001b[1;33m=\u001b[0m \u001b[0mclient\u001b[0m\u001b[1;33m.\u001b[0m\u001b[0mrecv\u001b[0m\u001b[1;33m(\u001b[0m\u001b[1;36m1024\u001b[0m\u001b[1;33m)\u001b[0m\u001b[1;33m\u001b[0m\u001b[0m\n\u001b[0m\u001b[0;32m     23\u001b[0m     \u001b[0mprint\u001b[0m\u001b[1;33m(\u001b[0m\u001b[1;34m'Receieved '\u001b[0m\u001b[1;33m,\u001b[0m\u001b[0mdata\u001b[0m\u001b[1;33m,\u001b[0m\u001b[1;34m' from the client'\u001b[0m\u001b[1;33m)\u001b[0m\u001b[1;33m\u001b[0m\u001b[0m\n\u001b[0;32m     24\u001b[0m     \u001b[0mprint\u001b[0m\u001b[1;33m(\u001b[0m\u001b[1;34m'Processing data'\u001b[0m\u001b[1;33m)\u001b[0m\u001b[1;33m\u001b[0m\u001b[0m\n",
      "\u001b[1;31mConnectionResetError\u001b[0m: [WinError 10054] An existing connection was forcibly closed by the remote host"
     ]
    }
   ],
   "source": [
    "import socket\n",
    "import math, random\n",
    "\n",
    "def generateOTP():\n",
    "    digits = \"0123456789\"\n",
    "    OTP = \"\"\n",
    "    for i in range(4):\n",
    "        OTP += digits[math.floor(random.random() * 10)]\n",
    "    return OTP\n",
    "\n",
    "\n",
    "server = socket.socket(socket.AF_INET, socket.SOCK_STREAM)\n",
    "ip = socket.gethostbyname(socket.gethostname())\n",
    "port = 12002\n",
    "address = (ip,port)\n",
    "server.bind(address)\n",
    "server.listen(1) #how many clients can connect\n",
    "print('Started listening on ',ip,':',port)\n",
    "client,addr = server.accept()\n",
    "print('Got a connection from ',addr[0],':',addr[1])\n",
    "while(True):\n",
    "    data = client.recv(1024)\n",
    "    print('Receieved ',data,' from the client')\n",
    "    print('Processing data')\n",
    "    if(data.decode() == 'OTP'):\n",
    "        otp = generateOTP()\n",
    "        client.send(otp.encode())\n",
    "        print('Processing done \\nReply sent')\n",
    "    elif(data.decode() == 'confirm'):\n",
    "        data = client.recv(1024)\n",
    "        if(otp == data.decode()):\n",
    "            client.send('OTP confirmed'.encode())\n",
    "        else:\n",
    "            client.send('Error'.encode())\n",
    "        print('Processing done')\n",
    "    elif(data.decode() == 'disconnect'):\n",
    "        client.close()\n",
    "        print('Processing done')\n",
    "        break\n",
    "    else:\n",
    "        client.send('Invalid data'.encode())\n",
    "        print('Processing done, Invalid OTP')"
   ]
  },
  {
   "cell_type": "code",
   "execution_count": null,
   "metadata": {},
   "outputs": [],
   "source": []
  },
  {
   "cell_type": "code",
   "execution_count": null,
   "metadata": {},
   "outputs": [],
   "source": []
  }
 ],
 "metadata": {
  "kernelspec": {
   "display_name": "Python 3",
   "language": "python",
   "name": "python3"
  },
  "language_info": {
   "codemirror_mode": {
    "name": "ipython",
    "version": 3
   },
   "file_extension": ".py",
   "mimetype": "text/x-python",
   "name": "python",
   "nbconvert_exporter": "python",
   "pygments_lexer": "ipython3",
   "version": "3.6.6"
  }
 },
 "nbformat": 4,
 "nbformat_minor": 2
}
