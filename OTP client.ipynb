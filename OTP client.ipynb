{
 "cells": [
  {
   "cell_type": "code",
   "execution_count": 3,
   "metadata": {},
   "outputs": [],
   "source": [
    "import tkinter\n",
    "import time\n",
    "import socket\n",
    "client = socket.socket()\n",
    "client.connect(('192.168.0.101',12002))\n",
    "\n",
    "def qExit():\n",
    "    client.send('disconnect'.encode())\n",
    "    top.destroy()\n",
    "\n",
    "def receive():\n",
    "    client.send('OTP'.encode())\n",
    "    data = client.recv(1024)\n",
    "    my_otp.set(data.decode())\n",
    "    print(data.decode())\n",
    "\n",
    "def send():\n",
    "    client.send('confirm'.encode())\n",
    "    s = my_cotp.get()\n",
    "    print(s)\n",
    "    client.send(s.encode())\n",
    "    data = client.recv(1024)\n",
    "    my_mg.set(data.decode())\n",
    "    print(data.decode())\n",
    "    \n",
    "\n",
    "top = tkinter.Tk()\n",
    "top.title(\"OTP Receiver\")\n",
    "top.geometry('420x680+0+0')\n",
    "\n",
    "messages_frame = tkinter.Frame(top)\n",
    "my_msg = tkinter.StringVar()\n",
    "my_mg = tkinter.StringVar()\n",
    "my_otp = tkinter.StringVar()\n",
    "my_cotp = tkinter.StringVar()\n",
    "\n",
    "#time\n",
    "localtime = time.asctime(time.localtime(time.time()))\n",
    "#display\n",
    "lblInfo = tkinter.Label(top, font = ('arial', 30, 'bold'), text = \"OTP Generator\", fg = 'Steel Blue', bd = 10, anchor = 'w')\n",
    "lblInfo.grid(row = 0, column = 1)\n",
    "lblInfo = tkinter.Label(top, font = ('arial', 5, 'bold'), text = localtime, fg = 'Steel Blue', bd = 10, anchor = 'w')\n",
    "lblInfo.grid(row = 1, column = 1)\n",
    "\n",
    "lblmob = tkinter.Label(top, font = ('arial', 16, 'bold'), text = 'enter mobile number', bd = 16, anchor = 'w').grid(row = 2, column = 1)\n",
    "entry_mob = tkinter.Entry(top, font = ('arial', 16, 'bold'), textvariable = my_msg, bd = 10, insertwidth = 4, bg = 'white', justify = 'right')\n",
    "#entry_mob.bind(\"<Return>\", send)\n",
    "entry_mob.grid(row = 3, column = 1, pady = 10)\n",
    "\n",
    "receive_button = tkinter.Button(top, padx = 8, pady = 8, fg = 'black', font = ('arial', 12, 'bold'), width = 8, bd = 5,bg = 'red', text=\"Receive OTP\", command=receive)\n",
    "receive_button.grid(row = 4, column = 1)\n",
    "\n",
    "entry_otp = tkinter.Entry(top, font = ('arial', 16, 'bold'), textvariable = my_otp, bd = 10, insertwidth = 4, bg = 'white', justify = 'right')\n",
    "#entry_otp.bind(\"<Return>\", send)\n",
    "entry_otp.grid(row = 5, column = 1, pady = 10)\n",
    "\n",
    "lblRef = tkinter.Label(top, font = ('arial', 16, 'bold'), text = 'Type in OTP', bd = 16, anchor = 'w').grid(row = 6, column = 1)\n",
    "entry_cotp = tkinter.Entry(top, font = ('arial', 16, 'bold'), textvariable = my_cotp, bd = 10, insertwidth = 4, bg = 'white', justify = 'right')\n",
    "#entry_cotp.bind(\"<Return>\", send)\n",
    "entry_cotp.grid(row = 7, column = 1, pady = 10)\n",
    "\n",
    "send_button = tkinter.Button(top, padx = 8, pady = 8, fg = 'black', font = ('arial', 12, 'bold'), width = 8, bd = 5,bg = 'red', text=\"Send OTP\", command=send)\n",
    "send_button.grid(row = 8, column = 1)\n",
    "\n",
    "lblRef = tkinter.Label(top, font = ('arial', 16, 'bold'), text = 'Message', bd = 16, anchor = 'w').grid(row = 9, column = 1)\n",
    "entry_msg = tkinter.Entry(top, font = ('arial', 16, 'bold'), textvariable = my_mg, bd = 10, insertwidth = 4, bg = 'white', justify = 'right')\n",
    "#entry_msg.bind(\"<Return>\", send)\n",
    "entry_msg.grid(row = 10, column = 1, pady = 10)\n",
    "\n",
    "b_exit = tkinter.Button(top, padx = 8, pady = 8, fg = 'black', font = ('arial', 12, 'bold'), width = 8, bd = 5,bg = 'red', text=\"EXIT\", command=qExit)\n",
    "b_exit.grid(row = 11, column = 1)"
   ]
  },
  {
   "cell_type": "code",
   "execution_count": 2,
   "metadata": {},
   "outputs": [
    {
     "data": {
      "text/plain": [
       "'192.168.0.101'"
      ]
     },
     "execution_count": 2,
     "metadata": {},
     "output_type": "execute_result"
    }
   ],
   "source": [
    "import socket\n",
    "socket.gethostbyname(socket.gethostname())"
   ]
  },
  {
   "cell_type": "code",
   "execution_count": null,
   "metadata": {},
   "outputs": [],
   "source": []
  }
 ],
 "metadata": {
  "kernelspec": {
   "display_name": "Python 3",
   "language": "python",
   "name": "python3"
  },
  "language_info": {
   "codemirror_mode": {
    "name": "ipython",
    "version": 3
   },
   "file_extension": ".py",
   "mimetype": "text/x-python",
   "name": "python",
   "nbconvert_exporter": "python",
   "pygments_lexer": "ipython3",
   "version": "3.6.6"
  }
 },
 "nbformat": 4,
 "nbformat_minor": 2
}
